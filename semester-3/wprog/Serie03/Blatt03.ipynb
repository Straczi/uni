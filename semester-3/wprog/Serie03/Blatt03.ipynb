{
 "cells": [
  {
   "cell_type": "markdown",
   "metadata": {},
   "source": [
    "# Aufgabe 3-1"
   ]
  },
  {
   "cell_type": "markdown",
   "metadata": {},
   "source": [
    "### a) List length"
   ]
  },
  {
   "cell_type": "code",
   "execution_count": null,
   "metadata": {},
   "outputs": [],
   "source": [
    "-- a) List length\n",
    "myLength :: [a] -> Integer\n",
    "myLength [] = 0\n",
    "myLength a = 1 + myLength (tail a)\n",
    "\n",
    "myLength []\n",
    "myLength [1]\n",
    "myLength \"asfadsuhflasidfuhsf\""
   ]
  },
  {
   "cell_type": "markdown",
   "metadata": {},
   "source": [
    "### b) Sum a list"
   ]
  },
  {
   "cell_type": "code",
   "execution_count": null,
   "metadata": {},
   "outputs": [],
   "source": [
    "-- b) mySum \n",
    "-- Summe einer Liste an Zahlen\n",
    "mySum :: Num a => [a] -> a\n",
    "mySum [] = 0\n",
    "mySum a = head a + mySum (tail a)\n",
    "\n",
    "mySum []\n",
    "mySum [1, 2, 3]"
   ]
  },
  {
   "cell_type": "markdown",
   "metadata": {},
   "source": [
    "### c) String concattenation"
   ]
  },
  {
   "cell_type": "code",
   "execution_count": null,
   "metadata": {},
   "outputs": [],
   "source": [
    "-- b) \n",
    "stringConcat :: [String] -> String\n",
    "stringConcat [] = \"\"\n",
    "stringConcat a = head a ++ stringConcat (tail a)\n",
    "\n",
    "stringConcat []\n",
    "stringConcat [\"a\", \"b\", \"c\"]"
   ]
  }
 ],
 "metadata": {
  "kernelspec": {
   "display_name": "Haskell",
   "language": "haskell",
   "name": "haskell"
  },
  "language_info": {
   "codemirror_mode": "ihaskell",
   "file_extension": ".hs",
   "mimetype": "text/x-haskell",
   "name": "haskell",
   "pygments_lexer": "Haskell",
   "version": "9.0.2"
  },
  "orig_nbformat": 4
 },
 "nbformat": 4,
 "nbformat_minor": 2
}

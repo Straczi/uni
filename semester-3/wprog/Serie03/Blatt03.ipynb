{
 "cells": [
  {
   "cell_type": "markdown",
   "metadata": {},
   "source": [
    "# Aufgabe 3-1"
   ]
  },
  {
   "cell_type": "markdown",
   "metadata": {},
   "source": [
    "### a) List length"
   ]
  },
  {
   "cell_type": "code",
   "execution_count": 68,
   "metadata": {},
   "outputs": [
    {
     "data": {
      "text/plain": [
       "0"
      ]
     },
     "metadata": {},
     "output_type": "display_data"
    },
    {
     "data": {
      "text/plain": [
       "1"
      ]
     },
     "metadata": {},
     "output_type": "display_data"
    },
    {
     "data": {
      "text/plain": [
       "19"
      ]
     },
     "metadata": {},
     "output_type": "display_data"
    }
   ],
   "source": [
    "-- a) List length\n",
    "myLength :: [a] -> Integer\n",
    "myLength [] = 0\n",
    "myLength a = 1 + myLength (tail a)\n",
    "\n",
    "myLength []\n",
    "myLength [1]\n",
    "myLength \"asfadsuhflasidfuhsf\""
   ]
  },
  {
   "cell_type": "markdown",
   "metadata": {},
   "source": [
    "### b) Sum a list"
   ]
  },
  {
   "cell_type": "code",
   "execution_count": 69,
   "metadata": {},
   "outputs": [
    {
     "data": {
      "text/plain": [
       "0"
      ]
     },
     "metadata": {},
     "output_type": "display_data"
    },
    {
     "data": {
      "text/plain": [
       "6"
      ]
     },
     "metadata": {},
     "output_type": "display_data"
    }
   ],
   "source": [
    "-- b) mySum \n",
    "-- Summe einer Liste an Zahlen\n",
    "mySum :: Num a => [a] -> a\n",
    "mySum [] = 0\n",
    "mySum a = head a + mySum (tail a)\n",
    "\n",
    "mySum []\n",
    "mySum [1, 2, 3]"
   ]
  },
  {
   "cell_type": "markdown",
   "metadata": {},
   "source": [
    "### c) String concattenation"
   ]
  },
  {
   "cell_type": "code",
   "execution_count": 70,
   "metadata": {},
   "outputs": [
    {
     "data": {
      "text/plain": [
       "\"\""
      ]
     },
     "metadata": {},
     "output_type": "display_data"
    },
    {
     "data": {
      "text/plain": [
       "\"abc\""
      ]
     },
     "metadata": {},
     "output_type": "display_data"
    }
   ],
   "source": [
    "-- b) \n",
    "stringConcat :: [String] -> String\n",
    "stringConcat [] = \"\"\n",
    "stringConcat a = head a ++ stringConcat (tail a)\n",
    "\n",
    "stringConcat []\n",
    "stringConcat [\"a\", \"b\", \"c\"]"
   ]
  },
  {
   "cell_type": "markdown",
   "metadata": {},
   "source": [
    "# Aufgabe 3-2"
   ]
  },
  {
   "cell_type": "code",
   "execution_count": 71,
   "metadata": {},
   "outputs": [],
   "source": [
    "-- 1.\n",
    "fun3 :: Eq a => (a, b, a) -> (b, a, Bool)\n",
    "fun3 (a, b, c) = (b, a, a == a)"
   ]
  },
  {
   "cell_type": "code",
   "execution_count": 72,
   "metadata": {},
   "outputs": [],
   "source": [
    "-- 2.\n",
    "apply :: (a -> b) -> a -> b\n",
    "apply f = f"
   ]
  },
  {
   "cell_type": "code",
   "execution_count": 73,
   "metadata": {},
   "outputs": [],
   "source": [
    "-- 3.\n",
    "applyList :: (a -> b) -> [a] -> [b]\n",
    "applyList _ [] = []\n",
    "applyList f (h:t) = f h : applyList f t"
   ]
  },
  {
   "cell_type": "code",
   "execution_count": 74,
   "metadata": {},
   "outputs": [
    {
     "data": {
      "text/plain": [
       "\"AAAAAA AAA AAA\""
      ]
     },
     "metadata": {},
     "output_type": "display_data"
    }
   ],
   "source": [
    "-- 4.\n",
    "applyString = applyList\n",
    "\n",
    "applyString (\\x -> if x == ' ' then ' ' else 'A') \"amogus sus gay\""
   ]
  },
  {
   "cell_type": "code",
   "execution_count": 75,
   "metadata": {},
   "outputs": [],
   "source": [
    "-- 5.\n",
    "fun4 :: Num a =>  a -> a -> b -> (a, b)\n",
    "fun4 a b c = (a + b, c)"
   ]
  },
  {
   "cell_type": "code",
   "execution_count": 76,
   "metadata": {},
   "outputs": [],
   "source": [
    "-- 6.\n",
    "fun5 :: Num a => p -> [a -> a]\n",
    "fun5 p = [(+ 1)]"
   ]
  },
  {
   "cell_type": "markdown",
   "metadata": {},
   "source": [
    "# Aufgabe 3-3"
   ]
  },
  {
   "cell_type": "code",
   "execution_count": 77,
   "metadata": {},
   "outputs": [
    {
     "data": {
      "text/plain": [
       "[(0,0),(2,4)]"
      ]
     },
     "metadata": {},
     "output_type": "display_data"
    }
   ],
   "source": [
    "-- Gibt für zwei Funktionen f und g und einer Definitionsmenge die\n",
    "-- Schnittpunkte der Funktionen aus.\n",
    "-- Bspw: intersect (*2) (\\x -> x*x) [-2,-1,0,1,2] = [(0, 0), (2, 4)]\n",
    "intersect :: Eq b => (a -> b) -> (a -> b) -> [a] -> [(a, b)]\n",
    "intersect f g d = [(x, f x) | x <- d, f x == g x]\n",
    "\n",
    "intersect (*2) (\\x -> x * x) [-2..2]"
   ]
  },
  {
   "cell_type": "code",
   "execution_count": 78,
   "metadata": {},
   "outputs": [
    {
     "data": {
      "text/plain": [
       "9"
      ]
     },
     "metadata": {},
     "output_type": "display_data"
    }
   ],
   "source": [
    "-- Ergibt für die gegebenen Funktionen f1 und f2 und die Eingabe x:\n",
    "-- f1(x) wenn f1(x) > f2(x), sonst f2(x)\n",
    "-- z.B. higherFunction (+ 6) (* 2) 3 ergibt 9\n",
    "higherFunction :: Ord b => (a -> b) -> (a -> b) -> a -> b\n",
    "higherFunction f1 f2 x  | f1 x > f2 x = f1 x\n",
    "                        | otherwise = f2 x\n",
    "\n",
    "higherFunction (+ 6) (* 2) 3"
   ]
  },
  {
   "cell_type": "code",
   "execution_count": 79,
   "metadata": {},
   "outputs": [
    {
     "data": {
      "text/plain": [
       "(\"ProgrammiereninHaskell\",2)"
      ]
     },
     "metadata": {},
     "output_type": "display_data"
    }
   ],
   "source": [
    "-- Entfernt Leerzeichen und zählt, wie viele Zeichen entfernt wurden\n",
    "-- z.B.: nospace \"Programmieren in Haskell\" = (\"ProgrammiereninHaskell\", 2)\n",
    "nospace :: String -> (String, Integer)\n",
    "nospace s = (out, toInteger (length s - length out)) where out = [x | x <- s, x /= ' ']\n",
    "\n",
    "nospace \"Programmieren in Haskell\""
   ]
  },
  {
   "cell_type": "code",
   "execution_count": 80,
   "metadata": {},
   "outputs": [
    {
     "data": {
      "text/plain": [
       "(\"ProgrammiereninHaskell\",2)"
      ]
     },
     "metadata": {},
     "output_type": "display_data"
    }
   ],
   "source": [
    "-- Nochmal rekursiv\n",
    "nospace2 :: String -> (String, Integer)\n",
    "nospace2 \"\" = (\"\", 0)\n",
    "nospace2 s = (fst first ++ fst rest, num)\n",
    "    where first = removeSpace (head s)\n",
    "          rest = nospace2 (tail s)\n",
    "          num = snd first + snd rest\n",
    "\n",
    "removeSpace :: Char -> (String, Integer)\n",
    "removeSpace ' ' = (\"\", 1)\n",
    "removeSpace c = ([c], 0)\n",
    "\n",
    "nospace2 \"Programmieren in Haskell\""
   ]
  },
  {
   "cell_type": "markdown",
   "metadata": {},
   "source": [
    "# Aufgabe 3-4"
   ]
  },
  {
   "cell_type": "code",
   "execution_count": 81,
   "metadata": {},
   "outputs": [],
   "source": [
    "input = [1,-5,3,0,11,3,25,100,7]"
   ]
  },
  {
   "cell_type": "markdown",
   "metadata": {},
   "source": [
    "#### a"
   ]
  },
  {
   "cell_type": "code",
   "execution_count": 82,
   "metadata": {},
   "outputs": [
    {
     "data": {
      "text/plain": [
       "[1,3,3,7]"
      ]
     },
     "metadata": {},
     "output_type": "display_data"
    }
   ],
   "source": [
    "-- a) Liste, die alle Elemente der Liste input enthält, welche im Intervall [1,7] liegen.\n",
    "a = [x | x <- input, x `elem` [1..7]]\n",
    "a"
   ]
  },
  {
   "cell_type": "markdown",
   "metadata": {},
   "source": [
    "#### b"
   ]
  },
  {
   "cell_type": "code",
   "execution_count": 83,
   "metadata": {},
   "outputs": [
    {
     "data": {
      "text/plain": [
       "[6,18,30,42,54,66,78,90]"
      ]
     },
     "metadata": {},
     "output_type": "display_data"
    }
   ],
   "source": [
    "-- b) Liste aller Zahlen von 1 bis 100, die durch 6 teilbar sind und mit 2 subtrahiert durch 4 teilbar sind.\n",
    "b = [x | x <- [1..100], (mod x 6 == 0) && (mod (x - 2) 4 == 0)]\n",
    "b"
   ]
  },
  {
   "cell_type": "markdown",
   "metadata": {},
   "source": [
    "#### c"
   ]
  },
  {
   "cell_type": "code",
   "execution_count": 84,
   "metadata": {},
   "outputs": [
    {
     "data": {
      "text/plain": [
       "[11,25]"
      ]
     },
     "metadata": {},
     "output_type": "display_data"
    }
   ],
   "source": [
    "-- c) Liste, die die quadrierten Elemente von input enthält, die größer als 100 und ungerade sind.\n",
    "c = [x | x <- input, (x ^ 2) > 100 && odd x]\n",
    "c"
   ]
  },
  {
   "cell_type": "markdown",
   "metadata": {},
   "source": [
    "#### d"
   ]
  },
  {
   "cell_type": "code",
   "execution_count": 85,
   "metadata": {},
   "outputs": [
    {
     "data": {
      "text/plain": [
       "[True,False,True,False,False,True,False,False,True]"
      ]
     },
     "metadata": {},
     "output_type": "display_data"
    }
   ],
   "source": [
    "-- d) Liste, die alle Elemente aus input, die auch in a) sind, mit True und alle, die nicht in a) sind, mit False ersetzt.\n",
    "d = map (`elem` a) input\n",
    "d"
   ]
  },
  {
   "cell_type": "code",
   "execution_count": 86,
   "metadata": {},
   "outputs": [
    {
     "data": {
      "text/plain": [
       "[True,False,True,False,False,True,False,False,True]"
      ]
     },
     "metadata": {},
     "output_type": "display_data"
    }
   ],
   "source": [
    "-- oder dann halt als list comprehension\n",
    "d = [x `elem` a | x <- input]\n",
    "d"
   ]
  },
  {
   "cell_type": "markdown",
   "metadata": {},
   "source": [
    "#### e"
   ]
  },
  {
   "cell_type": "code",
   "execution_count": 87,
   "metadata": {},
   "outputs": [
    {
     "data": {
      "text/plain": [
       "2"
      ]
     },
     "metadata": {},
     "output_type": "display_data"
    }
   ],
   "source": [
    "-- e) Anzahl der Zahlen von b), die durch 5 teilbar sind, wenn man 1 von ihnen subtrahiert.\n",
    "e = length [x | x <- b, mod (x - 1) 5 == 0]\n",
    "e"
   ]
  }
 ],
 "metadata": {
  "kernelspec": {
   "display_name": "Haskell",
   "language": "haskell",
   "name": "haskell"
  },
  "language_info": {
   "codemirror_mode": "ihaskell",
   "file_extension": ".hs",
   "mimetype": "text/x-haskell",
   "name": "haskell",
   "pygments_lexer": "Haskell",
   "version": "9.0.2"
  },
  "orig_nbformat": 4
 },
 "nbformat": 4,
 "nbformat_minor": 2
}

{
 "cells": [
  {
   "cell_type": "markdown",
   "metadata": {},
   "source": [
    "# 4-2\n",
    "Geben sie den Typen der folgenden Ausdrücke an"
   ]
  },
  {
   "cell_type": "code",
   "execution_count": 36,
   "metadata": {},
   "outputs": [],
   "source": [
    "-- a) fun2 n = [\\a -> (a, b, a*b) | b <- [1..n]]\n",
    "fun2:: (Num a, Enum a) => a -> [a -> (a, a, a)]\n",
    "fun2 n = [\\a -> (a, b, a*b) | b <- [1..n]]"
   ]
  },
  {
   "cell_type": "code",
   "execution_count": 37,
   "metadata": {},
   "outputs": [
    {
     "data": {
      "text/plain": [
       "\"abcd\""
      ]
     },
     "metadata": {},
     "output_type": "display_data"
    }
   ],
   "source": [
    "-- b) ['a', 'b'] ++ \"cd\"\n",
    "['a', 'b'] ++ \"cd\"\n",
    "anon :: String\n",
    "anon = ['a', 'b'] ++ \"cd\""
   ]
  },
  {
   "cell_type": "code",
   "execution_count": 38,
   "metadata": {},
   "outputs": [],
   "source": [
    "-- c) c) fun3 (x:xs) = x\n",
    "fun3 :: [a] -> a\n",
    "fun3 (x:xs) = x"
   ]
  },
  {
   "cell_type": "code",
   "execution_count": 39,
   "metadata": {},
   "outputs": [],
   "source": [
    "-- d) fun4 (x:xs) = x + 1\n",
    "fun4 :: Num a => [a] -> a\n",
    "fun4 (x:xs) = x + 1"
   ]
  },
  {
   "cell_type": "code",
   "execution_count": 40,
   "metadata": {},
   "outputs": [],
   "source": [
    "-- e) fun5 (x:xs) = (+) x\n",
    "fun5 :: Num æ => [æ] -> æ -> æ\n",
    "fun5 (x:xs) = (+) x"
   ]
  },
  {
   "cell_type": "code",
   "execution_count": 41,
   "metadata": {},
   "outputs": [],
   "source": [
    "-- f) fun6 (x:xs) = fun5 x\n",
    "fun6 :: Num a => [[a]] -> a -> a\n",
    "fun6 (x:xs) = fun5 x"
   ]
  },
  {
   "cell_type": "code",
   "execution_count": 42,
   "metadata": {},
   "outputs": [],
   "source": [
    "-- g) fun7 (x:xs) = fun5 xs\n",
    "fun7 :: Num a => [a] -> a -> a\n",
    "fun7 (x:xs) = fun5 xs"
   ]
  }
 ],
 "metadata": {
  "kernelspec": {
   "display_name": "Haskell",
   "language": "haskell",
   "name": "haskell"
  },
  "language_info": {
   "codemirror_mode": "ihaskell",
   "file_extension": ".hs",
   "mimetype": "text/x-haskell",
   "name": "haskell",
   "pygments_lexer": "Haskell",
   "version": "9.0.2"
  }
 },
 "nbformat": 4,
 "nbformat_minor": 2
}

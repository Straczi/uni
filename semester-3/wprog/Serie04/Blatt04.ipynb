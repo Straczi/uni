{
 "cells": [
  {
   "cell_type": "markdown",
   "metadata": {},
   "source": [
    "# Aufgabe 4-2\n",
    "Geben sie den Typen der folgenden Ausdrücke an"
   ]
  },
  {
   "cell_type": "code",
   "execution_count": 36,
   "metadata": {},
   "outputs": [],
   "source": [
    "-- a) fun2 n = [\\a -> (a, b, a*b) | b <- [1..n]]\n",
    "fun2:: (Num a, Enum a) => a -> [a -> (a, a, a)]\n",
    "fun2 n = [\\a -> (a, b, a*b) | b <- [1..n]]"
   ]
  },
  {
   "cell_type": "code",
   "execution_count": 37,
   "metadata": {},
   "outputs": [
    {
     "data": {
      "text/plain": [
       "\"abcd\""
      ]
     },
     "metadata": {},
     "output_type": "display_data"
    }
   ],
   "source": [
    "-- b) ['a', 'b'] ++ \"cd\"\n",
    "['a', 'b'] ++ \"cd\"\n",
    "anon :: String\n",
    "anon = ['a', 'b'] ++ \"cd\""
   ]
  },
  {
   "cell_type": "code",
   "execution_count": 38,
   "metadata": {},
   "outputs": [],
   "source": [
    "-- c) c) fun3 (x:xs) = x\n",
    "fun3 :: [a] -> a\n",
    "fun3 (x:xs) = x"
   ]
  },
  {
   "cell_type": "code",
   "execution_count": 39,
   "metadata": {},
   "outputs": [],
   "source": [
    "-- d) fun4 (x:xs) = x + 1\n",
    "fun4 :: Num a => [a] -> a\n",
    "fun4 (x:xs) = x + 1"
   ]
  },
  {
   "cell_type": "code",
   "execution_count": 40,
   "metadata": {},
   "outputs": [],
   "source": [
    "-- e) fun5 (x:xs) = (+) x\n",
    "fun5 :: Num æ => [æ] -> æ -> æ\n",
    "fun5 (x:xs) = (+) x"
   ]
  },
  {
   "cell_type": "code",
   "execution_count": 41,
   "metadata": {},
   "outputs": [],
   "source": [
    "-- f) fun6 (x:xs) = fun5 x\n",
    "fun6 :: Num a => [[a]] -> a -> a\n",
    "fun6 (x:xs) = fun5 x"
   ]
  },
  {
   "cell_type": "code",
   "execution_count": 42,
   "metadata": {},
   "outputs": [],
   "source": [
    "-- g) fun7 (x:xs) = fun5 xs\n",
    "fun7 :: Num a => [a] -> a -> a\n",
    "fun7 (x:xs) = fun5 xs"
   ]
  },
  {
   "cell_type": "markdown",
   "metadata": {},
   "source": [
    "# Aufgabe 4-3\n",
    "Erstellen sie eine Funktion merge, die rekursiv zwei sortierte Listen zusammenfügt.\n",
    "\n",
    "`merge [1,3,5] [2,4,6] = [1,2,3,4,5,6]`\n",
    "\n",
    "Erstellen Sie eine Funktion half, die eine Liste rekursiv in der Mitte halbiert.\n",
    "\n",
    "`half [1..10] = ([1,2,3,4,5,6],[7,8,9,10,11,12])`\n",
    "\n",
    "Nutzen Sie die beiden Funktionen, um eine Funktion msort zu schreiben, die eine unsortierte Liste\n",
    "durch Mergesort sortiert, z.B.  `msort [10,9..1] = [1,2,3,4,5,6,7,8,9,10]`"
   ]
  },
  {
   "cell_type": "code",
   "execution_count": 46,
   "metadata": {},
   "outputs": [
    {
     "data": {
      "text/plain": [
       "\"a\""
      ]
     },
     "metadata": {},
     "output_type": "display_data"
    },
    {
     "data": {
      "text/plain": [
       "\"b\""
      ]
     },
     "metadata": {},
     "output_type": "display_data"
    }
   ],
   "source": [
    "merge :: [a] -> [a] -> [a]\n",
    "merge [] b = b\n",
    "merge a [] = a\n",
    "\n"
   ]
  }
 ],
 "metadata": {
  "kernelspec": {
   "display_name": "Haskell",
   "language": "haskell",
   "name": "haskell"
  },
  "language_info": {
   "codemirror_mode": "ihaskell",
   "file_extension": ".hs",
   "mimetype": "text/x-haskell",
   "name": "haskell",
   "pygments_lexer": "Haskell",
   "version": "9.0.2"
  }
 },
 "nbformat": 4,
 "nbformat_minor": 2
}

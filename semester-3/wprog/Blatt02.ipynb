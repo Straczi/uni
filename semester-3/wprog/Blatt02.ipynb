{
 "cells": [
  {
   "cell_type": "markdown",
   "metadata": {},
   "source": [
    "# Aufgabe 2-1 (Typen 1)\n",
    "1. Ein Tupel aus einem lambda [welches eine Zahl nimmt und einen Boolean zurückgibt] und einem Boolean"
   ]
  },
  {
   "cell_type": "code",
   "execution_count": null,
   "metadata": {},
   "outputs": [],
   "source": [
    ":t (\\n -> n > 0, True)"
   ]
  },
  {
   "cell_type": "markdown",
   "metadata": {},
   "source": [
    "2. Eine Funktion die `1` returned (das x wird statisch reingegeben über `where`)"
   ]
  },
  {
   "cell_type": "code",
   "execution_count": null,
   "metadata": {},
   "outputs": [],
   "source": [
    "f = x - 1 where x = 2\n",
    ":t f"
   ]
  },
  {
   "cell_type": "markdown",
   "metadata": {},
   "source": [
    "3. Eine Funktion mit statischem Parameter X (mit Wert 2) und variablem Parameter Y"
   ]
  },
  {
   "cell_type": "code",
   "execution_count": null,
   "metadata": {},
   "outputs": [],
   "source": [
    "f2 y = x - y where x = 2\n",
    ":t f2\n",
    "f2 2\n",
    "f2 (-40)"
   ]
  },
  {
   "cell_type": "markdown",
   "metadata": {},
   "source": [
    "4. Eine Funktion die eine List entgegennimmt und den Kopf der Liste an ihren Tail hängt (eine no-op)"
   ]
  },
  {
   "cell_type": "code",
   "execution_count": null,
   "metadata": {},
   "outputs": [],
   "source": [
    "fun ls = head ls : tail ls\n",
    ":t fun"
   ]
  },
  {
   "cell_type": "markdown",
   "metadata": {},
   "source": [
    "5. Wir haben einen Tupel mit 2 Elementen, zuerst ein lamda welches Zwei Inputs addiert und als zweites Element die `+` Funktion in Präfix form. Mit `snd` nehmen wir das zweite Element aus dem Tupel, also die `+` Funktion in Präfix Form"
   ]
  },
  {
   "cell_type": "code",
   "execution_count": null,
   "metadata": {},
   "outputs": [],
   "source": [
    ":t snd (\\a b -> a + b, (+))"
   ]
  },
  {
   "cell_type": "markdown",
   "metadata": {},
   "source": [
    "6. Einfacher von rechts nach links zu lesen... kinda. Es wird eine Liste mit den Zahlen von 1-10 erstellt, diese dann umgedreht. Aus der Liste 10..1 wird dann wiederum eine neue Liste erstellt mit der List comprehension wobei jede Zahl in der Liste quadriert wird."
   ]
  },
  {
   "cell_type": "code",
   "execution_count": null,
   "metadata": {},
   "outputs": [],
   "source": [
    "[x ^ 2 | x <- reverse [1..10]]"
   ]
  },
  {
   "cell_type": "markdown",
   "metadata": {},
   "source": [
    "# Aufgabe 2-2"
   ]
  },
  {
   "cell_type": "code",
   "execution_count": null,
   "metadata": {},
   "outputs": [],
   "source": [
    "-- 1.\n",
    "str :: [Char]\n",
    "str = \"Dies ist ein String?\"\n",
    "\n",
    "-- 2.\n",
    "logic :: Bool -> Bool -> Bool\n",
    "logic a b = a && b\n",
    "\n",
    "-- 3.\n",
    "fun0 :: Eq p => p -> p\n",
    "fun0 p = p\n",
    "\n",
    "-- 4.\n",
    "fun1 :: Num a => a -> a -> a\n",
    "fun1 a b = a + b\n",
    "\n",
    "-- 5.\n",
    "fun2 :: Eq a => [a] -> [a] -> [Bool]\n",
    "fun2 a b = [a == b]"
   ]
  },
  {
   "cell_type": "markdown",
   "metadata": {},
   "source": [
    "# Aufgabe 2-3"
   ]
  },
  {
   "cell_type": "code",
   "execution_count": 38,
   "metadata": {},
   "outputs": [
    {
     "data": {
      "text/plain": [
       "True"
      ]
     },
     "metadata": {},
     "output_type": "display_data"
    }
   ],
   "source": [
    "import Data.Char\n",
    "\n",
    "evaluateIBAN :: [Char] -> Bool\n",
    "evaluateIBAN a = mod (convertIbanToInt a) 97 == 1\n",
    "\n",
    "convertIbanToInt :: [Char] -> Integer\n",
    "convertIbanToInt a = read (getBBAN a ++ getEncodedCountryCode a ++ getCheckDigits a)\n",
    "\n",
    "getBBAN :: [Char] -> [Char]\n",
    "getBBAN = drop 4\n",
    "\n",
    "getCheckDigits :: [Char] -> [Char]\n",
    "getCheckDigits a = take 2 (drop 2 a)\n",
    "\n",
    "getEncodedCountryCode :: [Char] -> [Char]\n",
    "getEncodedCountryCode a = encodeCountryCode (take 2 a)\n",
    "\n",
    "encodeCountryCode :: [Char] -> [Char]\n",
    "encodeCountryCode [] = []\n",
    "encodeCountryCode a = show (ord (head a) - 55) ++ encodeCountryCode (tail a)\n"
   ]
  },
  {
   "cell_type": "markdown",
   "metadata": {},
   "source": [
    "# Aufgabe 2-4"
   ]
  },
  {
   "cell_type": "code",
   "execution_count": 31,
   "metadata": {},
   "outputs": [],
   "source": [
    "quader :: Num a => a -> a -> a -> (a, a, a)\n",
    "quader a b c = (a, b , c)\n",
    "\n",
    "q1 = quader 4 3 2\n",
    "\n",
    "volume :: Num a => (a, a, a) -> a\n",
    "volume (a, b, c) = a * b * c\n",
    "\n",
    "surfaceArea :: Num a => (a, a, a) -> a\n",
    "surfaceArea (a, b, c) = 2 * (a * b + a * c + b * c)\n",
    "\n",
    "isCube :: (Eq a, Num a) => (a, a, a) -> Bool\n",
    "isCube (a, b, c) = a == b && b == c\n",
    "\n",
    "diagonal :: Floating a => (a, a, a) -> a\n",
    "diagonal (a, b, c) = sqrt (a ** 2 + b ** 2 + c ** 2)\n",
    "\n",
    "isBigger :: (Ord a, Num a) => (a, a, a) -> (a, a, a) -> Bool\n",
    "isBigger a b = volume a > volume b"
   ]
  }
 ],
 "metadata": {
  "kernelspec": {
   "display_name": "Haskell",
   "language": "haskell",
   "name": "haskell"
  },
  "language_info": {
   "codemirror_mode": "ihaskell",
   "file_extension": ".hs",
   "mimetype": "text/x-haskell",
   "name": "haskell",
   "pygments_lexer": "Haskell",
   "version": "9.4.5"
  },
  "orig_nbformat": 4
 },
 "nbformat": 4,
 "nbformat_minor": 2
}

{
 "cells": [
  {
   "cell_type": "markdown",
   "metadata": {},
   "source": [
    "# Aufgabe 2-1 (Typen 1)\n",
    "1. Ein Tupel aus einem lambda [welches eine Zahl nimmt und einen Boolean zurückgibt] und einem Boolean"
   ]
  },
  {
   "cell_type": "code",
   "execution_count": null,
   "metadata": {},
   "outputs": [],
   "source": [
    ":t (\\n -> n > 0, True)"
   ]
  },
  {
   "cell_type": "markdown",
   "metadata": {},
   "source": [
    "2. Eine Funktion die `1` returned (das x wird statisch reingegeben über `where`)"
   ]
  },
  {
   "cell_type": "code",
   "execution_count": null,
   "metadata": {},
   "outputs": [],
   "source": [
    "f = x - 1 where x = 2\n",
    ":t f"
   ]
  },
  {
   "cell_type": "markdown",
   "metadata": {},
   "source": [
    "3. Eine Funktion mit statischem Parameter X (mit Wert 2) und variablem Parameter Y"
   ]
  },
  {
   "cell_type": "code",
   "execution_count": null,
   "metadata": {},
   "outputs": [],
   "source": [
    "f2 y = x - y where x = 2\n",
    ":t f2\n",
    "f2 2\n",
    "f2 (-40)"
   ]
  },
  {
   "cell_type": "markdown",
   "metadata": {},
   "source": [
    "4. Eine Funktion die eine List entgegennimmt und den Kopf der Liste an ihren Tail hängt (eine no-op)"
   ]
  },
  {
   "cell_type": "code",
   "execution_count": null,
   "metadata": {},
   "outputs": [],
   "source": [
    "fun ls = head ls : tail ls\n",
    ":t fun"
   ]
  },
  {
   "cell_type": "markdown",
   "metadata": {},
   "source": [
    "5. Wir haben einen Tupel mit 2 Elementen, zuerst ein lamda welches Zwei Inputs addiert und als zweites Element die `+` Funktion in Präfix form. Mit `snd` nehmen wir das zweite Element aus dem Tupel, also die `+` Funktion in Präfix Form"
   ]
  },
  {
   "cell_type": "code",
   "execution_count": null,
   "metadata": {},
   "outputs": [],
   "source": [
    ":t snd (\\a b -> a + b, (+))"
   ]
  },
  {
   "cell_type": "markdown",
   "metadata": {},
   "source": [
    "6. Einfacher von rechts nach links zu lesen... kinda. Es wird eine Liste mit den Zahlen von 1-10 erstellt, diese dann umgedreht. Aus der Liste 10..1 wird dann wiederum eine neue Liste erstellt mit der List comprehension wobei jede Zahl in der Liste quadriert wird."
   ]
  },
  {
   "cell_type": "code",
   "execution_count": 15,
   "metadata": {},
   "outputs": [
    {
     "data": {
      "text/plain": [
       "[100,81,64,49,36,25,16,9,4,1]"
      ]
     },
     "metadata": {},
     "output_type": "display_data"
    }
   ],
   "source": [
    "[x ^ 2 | x <- reverse [1..10]]"
   ]
  }
 ],
 "metadata": {
  "kernelspec": {
   "display_name": "Haskell",
   "language": "haskell",
   "name": "haskell"
  },
  "language_info": {
   "codemirror_mode": "ihaskell",
   "file_extension": ".hs",
   "mimetype": "text/x-haskell",
   "name": "haskell",
   "pygments_lexer": "Haskell",
   "version": "9.4.5"
  },
  "orig_nbformat": 4
 },
 "nbformat": 4,
 "nbformat_minor": 2
}
